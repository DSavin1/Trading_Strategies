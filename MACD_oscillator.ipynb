{
 "cells": [
  {
   "cell_type": "code",
   "execution_count": 2,
   "metadata": {
    "ExecuteTime": {
     "end_time": "2022-12-15T20:01:56.645139Z",
     "start_time": "2022-12-15T20:01:56.641210Z"
    }
   },
   "outputs": [],
   "source": [
    "import pandas as pd\n",
    "import yfinance as yf\n",
    "import numpy as np"
   ]
  },
  {
   "cell_type": "code",
   "execution_count": 44,
   "metadata": {
    "ExecuteTime": {
     "end_time": "2022-12-15T20:14:01.935106Z",
     "start_time": "2022-12-15T20:14:01.711722Z"
    }
   },
   "outputs": [
    {
     "name": "stdout",
     "output_type": "stream",
     "text": [
      "[*********************100%***********************]  1 of 1 completed\n"
     ]
    },
    {
     "data": {
      "text/html": [
       "<div>\n",
       "<style scoped>\n",
       "    .dataframe tbody tr th:only-of-type {\n",
       "        vertical-align: middle;\n",
       "    }\n",
       "\n",
       "    .dataframe tbody tr th {\n",
       "        vertical-align: top;\n",
       "    }\n",
       "\n",
       "    .dataframe thead th {\n",
       "        text-align: right;\n",
       "    }\n",
       "</style>\n",
       "<table border=\"1\" class=\"dataframe\">\n",
       "  <thead>\n",
       "    <tr style=\"text-align: right;\">\n",
       "      <th></th>\n",
       "      <th>Open</th>\n",
       "      <th>High</th>\n",
       "      <th>Low</th>\n",
       "      <th>Close</th>\n",
       "      <th>Adj Close</th>\n",
       "      <th>Volume</th>\n",
       "    </tr>\n",
       "    <tr>\n",
       "      <th>Date</th>\n",
       "      <th></th>\n",
       "      <th></th>\n",
       "      <th></th>\n",
       "      <th></th>\n",
       "      <th></th>\n",
       "      <th></th>\n",
       "    </tr>\n",
       "  </thead>\n",
       "  <tbody>\n",
       "    <tr>\n",
       "      <th>2022-06-01</th>\n",
       "      <td>114.931503</td>\n",
       "      <td>117.399002</td>\n",
       "      <td>113.550499</td>\n",
       "      <td>114.137001</td>\n",
       "      <td>114.137001</td>\n",
       "      <td>28630000</td>\n",
       "    </tr>\n",
       "    <tr>\n",
       "      <th>2022-06-02</th>\n",
       "      <td>114.188004</td>\n",
       "      <td>117.898003</td>\n",
       "      <td>113.307999</td>\n",
       "      <td>117.746002</td>\n",
       "      <td>117.746002</td>\n",
       "      <td>27472000</td>\n",
       "    </tr>\n",
       "    <tr>\n",
       "      <th>2022-06-03</th>\n",
       "      <td>115.992500</td>\n",
       "      <td>116.364502</td>\n",
       "      <td>113.667999</td>\n",
       "      <td>114.564003</td>\n",
       "      <td>114.564003</td>\n",
       "      <td>25052000</td>\n",
       "    </tr>\n",
       "    <tr>\n",
       "      <th>2022-06-06</th>\n",
       "      <td>116.742500</td>\n",
       "      <td>119.398499</td>\n",
       "      <td>116.528297</td>\n",
       "      <td>117.010498</td>\n",
       "      <td>117.010498</td>\n",
       "      <td>23786000</td>\n",
       "    </tr>\n",
       "    <tr>\n",
       "      <th>2022-06-07</th>\n",
       "      <td>115.648003</td>\n",
       "      <td>117.748650</td>\n",
       "      <td>115.125504</td>\n",
       "      <td>117.229500</td>\n",
       "      <td>117.229500</td>\n",
       "      <td>26414000</td>\n",
       "    </tr>\n",
       "  </tbody>\n",
       "</table>\n",
       "</div>"
      ],
      "text/plain": [
       "                  Open        High         Low       Close   Adj Close  \\\n",
       "Date                                                                     \n",
       "2022-06-01  114.931503  117.399002  113.550499  114.137001  114.137001   \n",
       "2022-06-02  114.188004  117.898003  113.307999  117.746002  117.746002   \n",
       "2022-06-03  115.992500  116.364502  113.667999  114.564003  114.564003   \n",
       "2022-06-06  116.742500  119.398499  116.528297  117.010498  117.010498   \n",
       "2022-06-07  115.648003  117.748650  115.125504  117.229500  117.229500   \n",
       "\n",
       "              Volume  \n",
       "Date                  \n",
       "2022-06-01  28630000  \n",
       "2022-06-02  27472000  \n",
       "2022-06-03  25052000  \n",
       "2022-06-06  23786000  \n",
       "2022-06-07  26414000  "
      ]
     },
     "execution_count": 44,
     "metadata": {},
     "output_type": "execute_result"
    }
   ],
   "source": [
    "google_prices = yf.download('goog',start='2022-06-01', end='2022-12-01')\n",
    "google_prices.head()"
   ]
  },
  {
   "cell_type": "code",
   "execution_count": 225,
   "metadata": {
    "ExecuteTime": {
     "end_time": "2022-12-16T20:19:40.810996Z",
     "start_time": "2022-12-16T20:19:38.907288Z"
    }
   },
   "outputs": [],
   "source": [
    "import matplotlib.pyplot as plt\n",
    "\n",
    "\n",
    "def calculate_ma(prices, window_1, window_2):\n",
    "#   Calculating moving average\n",
    "    moving_averages = {}\n",
    "    moving_averages[\"m1\"] = prices.rolling(window=window_1,min_periods=1).mean()\n",
    "    moving_averages[\"m2\"] = prices.rolling(window=window_2,min_periods=1).mean()\n",
    "    return moving_averages\n",
    "\n",
    "def get_positions(moving_averages,w1,w2):\n",
    "#   position according to a relation between m1 and m2\n",
    "    moving_averages[\"positions\"] = []\n",
    "    signals = np.where(moving_averages[\"m1\"][w1:]>=moving_averages[\"m2\"][w1:], 1, 0)\n",
    "    zeros = np.zeros(w1)\n",
    "    moving_averages[\"positions\"] = np.append(zeros,signals)\n",
    "#   our action: \"1\" - buy, \"-1\" - sell, \"0\" - keep position\n",
    "    moving_averages[\"signals\"] = np.append([0],np.diff(moving_averages[\"positions\"],n=1))\n",
    "#   diff between averages\n",
    "    moving_averages[\"oscillator\"] = moving_averages[\"m1\"] - moving_averages[\"m2\"]\n",
    "    return moving_averages\n",
    "\n",
    "def backtest(ticker, start_date, finish_date, window_1, window_2):\n",
    "    prices = yf.download(ticker, start=start_date, end=finish_date)[\"Adj Close\"]\n",
    "    prices.plot(legend=True,label=\"price\")\n",
    "    \n",
    "#   moving averages\n",
    "    ma = calculate_ma(prices, window_1, window_2)\n",
    "    ma[\"m1\"].plot(legend=True,label=\"window: \" + str(window_1))\n",
    "    ma[\"m2\"].plot(legend=True,label=\"window: \" + str(window_2))\n",
    "#   actions to make\n",
    "    df = get_positions(ma, window_1, window_2)\n",
    "    \n",
    "#   calculating profit\n",
    "    signals = df[\"signals\"]\n",
    "    pnl = []\n",
    "    position = 0\n",
    "    number_of_observations = len(df[\"signals\"])\n",
    "\n",
    "    for i in range(number_of_observations):\n",
    "        action = df[\"signals\"][i]\n",
    "        if action == 0:\n",
    "            continue\n",
    "        if action == 1:\n",
    "            pnl.append(-prices[i])\n",
    "            position += 1\n",
    "        if action == -1:\n",
    "            pnl.append(prices[i])\n",
    "            position -= 1\n",
    "#   if by the end of the period we have an opened position, we want to close it\n",
    "    pnl.append(position * prices[number_of_observations-1])\n",
    "    return df[\"signals\"], df[\"oscillator\"]"
   ]
  },
  {
   "cell_type": "code",
   "execution_count": 224,
   "metadata": {
    "ExecuteTime": {
     "end_time": "2022-12-15T21:33:01.638675Z",
     "start_time": "2022-12-15T21:33:01.215697Z"
    }
   },
   "outputs": [
    {
     "name": "stdout",
     "output_type": "stream",
     "text": [
      "[*********************100%***********************]  1 of 1 completed\n",
      "total profit: -23.94751739501953\n"
     ]
    },
    {
     "data": {
      "image/png": "[encoded data removed]",
      "text/plain": [
       "<Figure size 432x288 with 1 Axes>"
      ]
     },
     "metadata": {
      "needs_background": "light"
     },
     "output_type": "display_data"
    }
   ],
   "source": [
    "a,b = backtest(\"goog\", '2022-01-01', '2022-12-01', 21, 50)"
   ]
  },
  {
   "cell_type": "code",
   "execution_count": 220,
   "metadata": {
    "ExecuteTime": {
     "end_time": "2022-12-15T21:32:34.333066Z",
     "start_time": "2022-12-15T21:32:34.191146Z"
    }
   },
   "outputs": [
    {
     "data": {
      "text/plain": [
       "[<matplotlib.lines.Line2D at 0x124af96d0>]"
      ]
     },
     "execution_count": 220,
     "metadata": {},
     "output_type": "execute_result"
    },
    {
     "data": {
      "image/png": "[encoded data removed]",
      "text/plain": [
       "<Figure size 432x288 with 1 Axes>"
      ]
     },
     "metadata": {
      "needs_background": "light"
     },
     "output_type": "display_data"
    }
   ],
   "source": [
    "# Checking if the coding is correct\n",
    "x = np.arange(0,len(a),1)\n",
    "plt.plot(x,a)\n",
    "plt.plot(x,b)\n"
   ]
  },
  {
   "cell_type": "code",
   "execution_count": null,
   "metadata": {
    "ExecuteTime": {
     "end_time": "2022-12-15T21:27:03.183097Z",
     "start_time": "2022-12-15T21:27:03.175786Z"
    }
   },
   "outputs": [],
   "source": []
  },
  {
   "cell_type": "code",
   "execution_count": null,
   "metadata": {},
   "outputs": [],
   "source": []
  }
 ],
 "metadata": {
  "kernelspec": {
   "display_name": "Python 3",
   "language": "python",
   "name": "python3"
  },
  "language_info": {
   "codemirror_mode": {
    "name": "ipython",
    "version": 3
   },
   "file_extension": ".py",
   "mimetype": "text/x-python",
   "name": "python",
   "nbconvert_exporter": "python",
   "pygments_lexer": "ipython3",
   "version": "3.9.0"
  }
 },
 "nbformat": 4,
 "nbformat_minor": 4
}
